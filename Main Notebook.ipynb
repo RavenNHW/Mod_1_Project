{
 "cells": [
  {
   "cell_type": "markdown",
   "metadata": {},
   "source": [
    "# How to Make a Hit \n",
    "### The Technical Rundown\n",
    "---"
   ]
  },
  {
   "cell_type": "markdown",
   "metadata": {},
   "source": [
    "### The Question at Hand\n",
    "\n",
    "Microsoft is interested in creating a new movie studio, and needs help from us, their Data Science team, to find out how to better understand the movie industry and what move to make first. \n",
    "\n",
    "Knowing this, we've devised three target questions to answer:\n",
    "\n",
    "1) What genre? \n",
    "- What genres generate the most revenue today?\n",
    "- In what directions are different genres trending? \n",
    "\n",
    "2) Which people?\n",
    "- Do certain people consistantly generate high revenue films? \n",
    "\n",
    "3) How long? \n",
    "- How does a movie's length affect how much money it makes? \n",
    "- Are consumers willing to sit through long movies?\n",
    "- Are consumers willing to spend money on short films?\n",
    "\n",
    "---"
   ]
  },
  {
   "cell_type": "markdown",
   "metadata": {},
   "source": [
    "### The Data in our Toolbox\n",
    "\n",
    "For this surface-level analysis, we used the following sources:\n",
    "- IMDB - Movies, Principals, Genres\n",
    "- BoxOfficeMojo - Gross Domestic Revenue\n",
    "\n",
    "After combining, cleaning, and reorganizing the data, we were able to work with 3,200 films produce from 2010 to 2019, with any movies under 60 minutes being filtered out.\n",
    "\n",
    "To view the Jupyter Notebook walking through the actual data cleaning process, click here: [Data Processing/]<Generate_CSVs.ipynb>\n"
   ]
  },
  {
   "cell_type": "code",
   "execution_count": 19,
   "metadata": {},
   "outputs": [],
   "source": [
    "# Please run this cell to import the packages and cleaned data\n",
    "\n",
    "import matplotlib.ticker as ticker\n",
    "import seaborn as sns\n",
    "import pandas as pd\n",
    "import numpy as np\n",
    "\n",
    "main_df = pd.read_csv(\"Data Processing/data/Master_Table.csv\", index_col=0)\n",
    "people_df = pd.read_csv(\"Data Processing/data/People_Master.csv\", index_col=0)"
   ]
  },
  {
   "cell_type": "markdown",
   "metadata": {},
   "source": [
    "---"
   ]
  },
  {
   "cell_type": "code",
   "execution_count": null,
   "metadata": {},
   "outputs": [],
   "source": []
  }
 ],
 "metadata": {
  "kernelspec": {
   "display_name": "Python [conda env:.conda-learn-env] *",
   "language": "python",
   "name": "conda-env-.conda-learn-env-py"
  },
  "language_info": {
   "codemirror_mode": {
    "name": "ipython",
    "version": 3
   },
   "file_extension": ".py",
   "mimetype": "text/x-python",
   "name": "python",
   "nbconvert_exporter": "python",
   "pygments_lexer": "ipython3",
   "version": "3.6.9"
  }
 },
 "nbformat": 4,
 "nbformat_minor": 4
}
