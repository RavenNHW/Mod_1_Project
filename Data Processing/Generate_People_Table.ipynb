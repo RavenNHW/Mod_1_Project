{
 "cells": [
  {
   "cell_type": "markdown",
   "metadata": {},
   "source": [
    "**Read in master table**"
   ]
  },
  {
   "cell_type": "code",
   "execution_count": 36,
   "metadata": {},
   "outputs": [
    {
     "data": {
      "text/html": [
       "<div>\n",
       "<style scoped>\n",
       "    .dataframe tbody tr th:only-of-type {\n",
       "        vertical-align: middle;\n",
       "    }\n",
       "\n",
       "    .dataframe tbody tr th {\n",
       "        vertical-align: top;\n",
       "    }\n",
       "\n",
       "    .dataframe thead th {\n",
       "        text-align: right;\n",
       "    }\n",
       "</style>\n",
       "<table border=\"1\" class=\"dataframe\">\n",
       "  <thead>\n",
       "    <tr style=\"text-align: right;\">\n",
       "      <th></th>\n",
       "      <th>Title_ID</th>\n",
       "      <th>Title</th>\n",
       "      <th>Year</th>\n",
       "      <th>Runtime_Minutes</th>\n",
       "      <th>Genres</th>\n",
       "      <th>Lifetime_Gross</th>\n",
       "    </tr>\n",
       "  </thead>\n",
       "  <tbody>\n",
       "    <tr>\n",
       "      <th>0</th>\n",
       "      <td>tt0369610</td>\n",
       "      <td>Jurassic World</td>\n",
       "      <td>2015</td>\n",
       "      <td>124.0</td>\n",
       "      <td>Action,Adventure,Sci-Fi</td>\n",
       "      <td>652270625.0</td>\n",
       "    </tr>\n",
       "    <tr>\n",
       "      <th>1</th>\n",
       "      <td>tt0401729</td>\n",
       "      <td>John Carter</td>\n",
       "      <td>2012</td>\n",
       "      <td>132.0</td>\n",
       "      <td>Action,Adventure,Sci-Fi</td>\n",
       "      <td>73078100.0</td>\n",
       "    </tr>\n",
       "    <tr>\n",
       "      <th>2</th>\n",
       "      <td>tt1179034</td>\n",
       "      <td>From Paris with Love</td>\n",
       "      <td>2010</td>\n",
       "      <td>92.0</td>\n",
       "      <td>Action,Crime,Thriller</td>\n",
       "      <td>24077427.0</td>\n",
       "    </tr>\n",
       "    <tr>\n",
       "      <th>3</th>\n",
       "      <td>tt1194173</td>\n",
       "      <td>The Bourne Legacy</td>\n",
       "      <td>2012</td>\n",
       "      <td>135.0</td>\n",
       "      <td>Action,Adventure,Thriller</td>\n",
       "      <td>113203870.0</td>\n",
       "    </tr>\n",
       "    <tr>\n",
       "      <th>4</th>\n",
       "      <td>tt1219289</td>\n",
       "      <td>Limitless</td>\n",
       "      <td>2011</td>\n",
       "      <td>105.0</td>\n",
       "      <td>Mystery,Sci-Fi,Thriller</td>\n",
       "      <td>79249455.0</td>\n",
       "    </tr>\n",
       "  </tbody>\n",
       "</table>\n",
       "</div>"
      ],
      "text/plain": [
       "    Title_ID                 Title  Year  Runtime_Minutes  \\\n",
       "0  tt0369610        Jurassic World  2015            124.0   \n",
       "1  tt0401729           John Carter  2012            132.0   \n",
       "2  tt1179034  From Paris with Love  2010             92.0   \n",
       "3  tt1194173     The Bourne Legacy  2012            135.0   \n",
       "4  tt1219289             Limitless  2011            105.0   \n",
       "\n",
       "                      Genres  Lifetime_Gross  \n",
       "0    Action,Adventure,Sci-Fi     652270625.0  \n",
       "1    Action,Adventure,Sci-Fi      73078100.0  \n",
       "2      Action,Crime,Thriller      24077427.0  \n",
       "3  Action,Adventure,Thriller     113203870.0  \n",
       "4    Mystery,Sci-Fi,Thriller      79249455.0  "
      ]
     },
     "execution_count": 36,
     "metadata": {},
     "output_type": "execute_result"
    }
   ],
   "source": [
    "#Read in master table\n",
    "import pandas as pd\n",
    "import matplotlib.pyplot as plt\n",
    "%matplotlib inline\n",
    "master_df = pd.read_csv('data/Master_Table.csv')\n",
    "master_df = master_df.drop(columns='Unnamed: 0')\n",
    "master_df.head()"
   ]
  },
  {
   "cell_type": "code",
   "execution_count": 37,
   "metadata": {},
   "outputs": [
    {
     "name": "stdout",
     "output_type": "stream",
     "text": [
      "<class 'pandas.core.frame.DataFrame'>\n",
      "RangeIndex: 3188 entries, 0 to 3187\n",
      "Data columns (total 6 columns):\n",
      " #   Column           Non-Null Count  Dtype  \n",
      "---  ------           --------------  -----  \n",
      " 0   Title_ID         3188 non-null   object \n",
      " 1   Title            3188 non-null   object \n",
      " 2   Year             3188 non-null   int64  \n",
      " 3   Runtime_Minutes  3158 non-null   float64\n",
      " 4   Genres           3184 non-null   object \n",
      " 5   Lifetime_Gross   3188 non-null   float64\n",
      "dtypes: float64(2), int64(1), object(3)\n",
      "memory usage: 149.6+ KB\n"
     ]
    }
   ],
   "source": [
    "master_df.info()"
   ]
  },
  {
   "cell_type": "markdown",
   "metadata": {},
   "source": [
    "**Pull In Principal Data & Explore**"
   ]
  },
  {
   "cell_type": "code",
   "execution_count": 38,
   "metadata": {},
   "outputs": [
    {
     "data": {
      "text/html": [
       "<div>\n",
       "<style scoped>\n",
       "    .dataframe tbody tr th:only-of-type {\n",
       "        vertical-align: middle;\n",
       "    }\n",
       "\n",
       "    .dataframe tbody tr th {\n",
       "        vertical-align: top;\n",
       "    }\n",
       "\n",
       "    .dataframe thead th {\n",
       "        text-align: right;\n",
       "    }\n",
       "</style>\n",
       "<table border=\"1\" class=\"dataframe\">\n",
       "  <thead>\n",
       "    <tr style=\"text-align: right;\">\n",
       "      <th></th>\n",
       "      <th>Title_ID</th>\n",
       "      <th>Name_ID</th>\n",
       "      <th>Role</th>\n",
       "      <th>Name</th>\n",
       "    </tr>\n",
       "  </thead>\n",
       "  <tbody>\n",
       "    <tr>\n",
       "      <th>0</th>\n",
       "      <td>tt0111414</td>\n",
       "      <td>nm0246005</td>\n",
       "      <td>actor</td>\n",
       "      <td>Tommy Dysart</td>\n",
       "    </tr>\n",
       "    <tr>\n",
       "      <th>1</th>\n",
       "      <td>tt0111414</td>\n",
       "      <td>nm0398271</td>\n",
       "      <td>director</td>\n",
       "      <td>Frank Howson</td>\n",
       "    </tr>\n",
       "    <tr>\n",
       "      <th>2</th>\n",
       "      <td>tt0111414</td>\n",
       "      <td>nm3739909</td>\n",
       "      <td>producer</td>\n",
       "      <td>Barry Porter-Robinson</td>\n",
       "    </tr>\n",
       "    <tr>\n",
       "      <th>3</th>\n",
       "      <td>tt0323808</td>\n",
       "      <td>nm0059247</td>\n",
       "      <td>editor</td>\n",
       "      <td>Sean Barton</td>\n",
       "    </tr>\n",
       "    <tr>\n",
       "      <th>4</th>\n",
       "      <td>tt0323808</td>\n",
       "      <td>nm3579312</td>\n",
       "      <td>actress</td>\n",
       "      <td>Brittania Nicol</td>\n",
       "    </tr>\n",
       "  </tbody>\n",
       "</table>\n",
       "</div>"
      ],
      "text/plain": [
       "    Title_ID    Name_ID      Role                   Name\n",
       "0  tt0111414  nm0246005     actor           Tommy Dysart\n",
       "1  tt0111414  nm0398271  director           Frank Howson\n",
       "2  tt0111414  nm3739909  producer  Barry Porter-Robinson\n",
       "3  tt0323808  nm0059247    editor            Sean Barton\n",
       "4  tt0323808  nm3579312   actress        Brittania Nicol"
      ]
     },
     "execution_count": 38,
     "metadata": {},
     "output_type": "execute_result"
    }
   ],
   "source": [
    "principals = pd.read_csv('data/imdb.title.principals.csv.gz')\n",
    "names = pd.read_csv('data/imdb.name.basics.csv.gz')\n",
    "names_only = names[['nconst', 'primary_name']]\n",
    "principals_names = principals.merge(names_only, on='nconst', how='left')\n",
    "principals_names.drop(columns = [\"ordering\", \"job\", \"characters\"], inplace = True)\n",
    "principals_names.rename(columns={'tconst':'Title_ID', 'nconst':'Name_ID', 'category':'Role', 'primary_name':'Name'}, inplace = True)\n",
    "principals_names.head()"
   ]
  },
  {
   "cell_type": "code",
   "execution_count": 39,
   "metadata": {},
   "outputs": [
    {
     "name": "stdout",
     "output_type": "stream",
     "text": [
      "<class 'pandas.core.frame.DataFrame'>\n",
      "Int64Index: 1028186 entries, 0 to 1028185\n",
      "Data columns (total 4 columns):\n",
      " #   Column    Non-Null Count    Dtype \n",
      "---  ------    --------------    ----- \n",
      " 0   Title_ID  1028186 non-null  object\n",
      " 1   Name_ID   1028186 non-null  object\n",
      " 2   Role      1028186 non-null  object\n",
      " 3   Name      1027912 non-null  object\n",
      "dtypes: object(4)\n",
      "memory usage: 39.2+ MB\n"
     ]
    }
   ],
   "source": [
    "principals_names.info()"
   ]
  },
  {
   "cell_type": "code",
   "execution_count": 40,
   "metadata": {},
   "outputs": [
    {
     "data": {
      "text/plain": [
       "Kevin MacLeod           378\n",
       "William Shakespeare     160\n",
       "Eric Roberts            148\n",
       "Brahmanandam            126\n",
       "Sen Arima               103\n",
       "                       ... \n",
       "Robert Pacitti            1\n",
       "Roman Griffin Davis       1\n",
       "Jaimie Giadordano         1\n",
       "Shehrezad Maher           1\n",
       "Ludwig Paredes Funes      1\n",
       "Name: Name, Length: 575032, dtype: int64"
      ]
     },
     "execution_count": 40,
     "metadata": {},
     "output_type": "execute_result"
    }
   ],
   "source": [
    "principals_names['Name'].value_counts()"
   ]
  },
  {
   "cell_type": "code",
   "execution_count": 41,
   "metadata": {},
   "outputs": [
    {
     "data": {
      "text/plain": [
       "actor                  256718\n",
       "director               146393\n",
       "actress                146208\n",
       "producer               113724\n",
       "cinematographer         80091\n",
       "composer                77063\n",
       "writer                  74357\n",
       "self                    65424\n",
       "editor                  55512\n",
       "production_designer      9373\n",
       "archive_footage          3307\n",
       "archive_sound              16\n",
       "Name: Role, dtype: int64"
      ]
     },
     "execution_count": 41,
     "metadata": {},
     "output_type": "execute_result"
    }
   ],
   "source": [
    "principals_names['Role'].value_counts()"
   ]
  },
  {
   "cell_type": "code",
   "execution_count": 42,
   "metadata": {},
   "outputs": [
    {
     "data": {
      "text/html": [
       "<div>\n",
       "<style scoped>\n",
       "    .dataframe tbody tr th:only-of-type {\n",
       "        vertical-align: middle;\n",
       "    }\n",
       "\n",
       "    .dataframe tbody tr th {\n",
       "        vertical-align: top;\n",
       "    }\n",
       "\n",
       "    .dataframe thead th {\n",
       "        text-align: right;\n",
       "    }\n",
       "</style>\n",
       "<table border=\"1\" class=\"dataframe\">\n",
       "  <thead>\n",
       "    <tr style=\"text-align: right;\">\n",
       "      <th></th>\n",
       "      <th>Title_ID</th>\n",
       "      <th>Title</th>\n",
       "      <th>Year</th>\n",
       "      <th>Runtime_Minutes</th>\n",
       "      <th>Genres</th>\n",
       "      <th>Lifetime_Gross</th>\n",
       "      <th>Name_ID</th>\n",
       "      <th>Role</th>\n",
       "      <th>Name</th>\n",
       "    </tr>\n",
       "  </thead>\n",
       "  <tbody>\n",
       "    <tr>\n",
       "      <th>0</th>\n",
       "      <td>tt0369610</td>\n",
       "      <td>Jurassic World</td>\n",
       "      <td>2015</td>\n",
       "      <td>124.0</td>\n",
       "      <td>Action,Adventure,Sci-Fi</td>\n",
       "      <td>652270625.0</td>\n",
       "      <td>nm0189777</td>\n",
       "      <td>producer</td>\n",
       "      <td>Patrick Crowley</td>\n",
       "    </tr>\n",
       "    <tr>\n",
       "      <th>1</th>\n",
       "      <td>tt0369610</td>\n",
       "      <td>Jurassic World</td>\n",
       "      <td>2015</td>\n",
       "      <td>124.0</td>\n",
       "      <td>Action,Adventure,Sci-Fi</td>\n",
       "      <td>652270625.0</td>\n",
       "      <td>nm0695435</td>\n",
       "      <td>actor</td>\n",
       "      <td>Chris Pratt</td>\n",
       "    </tr>\n",
       "    <tr>\n",
       "      <th>2</th>\n",
       "      <td>tt0369610</td>\n",
       "      <td>Jurassic World</td>\n",
       "      <td>2015</td>\n",
       "      <td>124.0</td>\n",
       "      <td>Action,Adventure,Sci-Fi</td>\n",
       "      <td>652270625.0</td>\n",
       "      <td>nm0397171</td>\n",
       "      <td>actress</td>\n",
       "      <td>Bryce Dallas Howard</td>\n",
       "    </tr>\n",
       "    <tr>\n",
       "      <th>3</th>\n",
       "      <td>tt0369610</td>\n",
       "      <td>Jurassic World</td>\n",
       "      <td>2015</td>\n",
       "      <td>124.0</td>\n",
       "      <td>Action,Adventure,Sci-Fi</td>\n",
       "      <td>652270625.0</td>\n",
       "      <td>nm1339223</td>\n",
       "      <td>actor</td>\n",
       "      <td>Ty Simpkins</td>\n",
       "    </tr>\n",
       "    <tr>\n",
       "      <th>4</th>\n",
       "      <td>tt0369610</td>\n",
       "      <td>Jurassic World</td>\n",
       "      <td>2015</td>\n",
       "      <td>124.0</td>\n",
       "      <td>Action,Adventure,Sci-Fi</td>\n",
       "      <td>652270625.0</td>\n",
       "      <td>nm0339460</td>\n",
       "      <td>actress</td>\n",
       "      <td>Judy Greer</td>\n",
       "    </tr>\n",
       "  </tbody>\n",
       "</table>\n",
       "</div>"
      ],
      "text/plain": [
       "    Title_ID           Title  Year  Runtime_Minutes                   Genres  \\\n",
       "0  tt0369610  Jurassic World  2015            124.0  Action,Adventure,Sci-Fi   \n",
       "1  tt0369610  Jurassic World  2015            124.0  Action,Adventure,Sci-Fi   \n",
       "2  tt0369610  Jurassic World  2015            124.0  Action,Adventure,Sci-Fi   \n",
       "3  tt0369610  Jurassic World  2015            124.0  Action,Adventure,Sci-Fi   \n",
       "4  tt0369610  Jurassic World  2015            124.0  Action,Adventure,Sci-Fi   \n",
       "\n",
       "   Lifetime_Gross    Name_ID      Role                 Name  \n",
       "0     652270625.0  nm0189777  producer      Patrick Crowley  \n",
       "1     652270625.0  nm0695435     actor          Chris Pratt  \n",
       "2     652270625.0  nm0397171   actress  Bryce Dallas Howard  \n",
       "3     652270625.0  nm1339223     actor          Ty Simpkins  \n",
       "4     652270625.0  nm0339460   actress           Judy Greer  "
      ]
     },
     "execution_count": 42,
     "metadata": {},
     "output_type": "execute_result"
    }
   ],
   "source": [
    "people_master = master_df.merge(principals_names, how='left', on='Title_ID')\n",
    "people_master = people_master.dropna(subset=['Name'])\n",
    "people_master.head()"
   ]
  },
  {
   "cell_type": "code",
   "execution_count": 43,
   "metadata": {},
   "outputs": [
    {
     "name": "stdout",
     "output_type": "stream",
     "text": [
      "<class 'pandas.core.frame.DataFrame'>\n",
      "Int64Index: 30722 entries, 0 to 30724\n",
      "Data columns (total 9 columns):\n",
      " #   Column           Non-Null Count  Dtype  \n",
      "---  ------           --------------  -----  \n",
      " 0   Title_ID         30722 non-null  object \n",
      " 1   Title            30722 non-null  object \n",
      " 2   Year             30722 non-null  int64  \n",
      " 3   Runtime_Minutes  30495 non-null  float64\n",
      " 4   Genres           30687 non-null  object \n",
      " 5   Lifetime_Gross   30722 non-null  float64\n",
      " 6   Name_ID          30722 non-null  object \n",
      " 7   Role             30722 non-null  object \n",
      " 8   Name             30722 non-null  object \n",
      "dtypes: float64(2), int64(1), object(6)\n",
      "memory usage: 2.3+ MB\n"
     ]
    }
   ],
   "source": [
    "people_master.info()"
   ]
  },
  {
   "cell_type": "code",
   "execution_count": 44,
   "metadata": {},
   "outputs": [],
   "source": [
    "people_master.to_csv(path_or_buf='data/People_Master.csv')"
   ]
  },
  {
   "cell_type": "code",
   "execution_count": null,
   "metadata": {},
   "outputs": [],
   "source": []
  }
 ],
 "metadata": {
  "kernelspec": {
   "display_name": "Python [conda env:learn-env] *",
   "language": "python",
   "name": "conda-env-learn-env-py"
  },
  "language_info": {
   "codemirror_mode": {
    "name": "ipython",
    "version": 3
   },
   "file_extension": ".py",
   "mimetype": "text/x-python",
   "name": "python",
   "nbconvert_exporter": "python",
   "pygments_lexer": "ipython3",
   "version": "3.6.9"
  }
 },
 "nbformat": 4,
 "nbformat_minor": 2
}
