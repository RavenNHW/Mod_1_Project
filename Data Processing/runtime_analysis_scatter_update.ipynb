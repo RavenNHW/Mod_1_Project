{
 "cells": [
  {
   "cell_type": "code",
   "execution_count": 1,
   "metadata": {},
   "outputs": [
    {
     "name": "stdout",
     "output_type": "stream",
     "text": [
      "<class 'pandas.core.frame.DataFrame'>\n",
      "RangeIndex: 3188 entries, 0 to 3187\n",
      "Data columns (total 6 columns):\n",
      " #   Column           Non-Null Count  Dtype  \n",
      "---  ------           --------------  -----  \n",
      " 0   Title_ID         3188 non-null   object \n",
      " 1   Title            3188 non-null   object \n",
      " 2   Year             3188 non-null   int64  \n",
      " 3   Runtime_Minutes  3158 non-null   float64\n",
      " 4   Genres           3184 non-null   object \n",
      " 5   Lifetime_Gross   3188 non-null   float64\n",
      "dtypes: float64(2), int64(1), object(3)\n",
      "memory usage: 149.6+ KB\n"
     ]
    },
    {
     "name": "stderr",
     "output_type": "stream",
     "text": [
      "/Users/jamesfay/opt/anaconda3/envs/learn-env/lib/python3.6/site-packages/statsmodels/tools/_testing.py:19: FutureWarning: pandas.util.testing is deprecated. Use the functions in the public API at pandas.testing instead.\n",
      "  import pandas.util.testing as tm\n"
     ]
    }
   ],
   "source": [
    "#Read in master table\n",
    "import pandas as pd\n",
    "import matplotlib.pyplot as plt\n",
    "import seaborn as sns\n",
    "import matplotlib.ticker as ticker\n",
    "%matplotlib inline\n",
    "master_df = pd.read_csv('data/Master_Table.csv')\n",
    "master_df = master_df.drop(columns='Unnamed: 0')\n",
    "master_df.head()\n",
    "master_df.info()"
   ]
  },
  {
   "cell_type": "code",
   "execution_count": 2,
   "metadata": {},
   "outputs": [
    {
     "name": "stdout",
     "output_type": "stream",
     "text": [
      "<class 'pandas.core.frame.DataFrame'>\n",
      "RangeIndex: 3188 entries, 0 to 3187\n",
      "Data columns (total 6 columns):\n",
      " #   Column           Non-Null Count  Dtype  \n",
      "---  ------           --------------  -----  \n",
      " 0   Title_ID         3188 non-null   object \n",
      " 1   Title            3188 non-null   object \n",
      " 2   Year             3188 non-null   int64  \n",
      " 3   Runtime_Minutes  3188 non-null   float64\n",
      " 4   Genres           3184 non-null   object \n",
      " 5   Lifetime_Gross   3188 non-null   float64\n",
      "dtypes: float64(2), int64(1), object(3)\n",
      "memory usage: 149.6+ KB\n"
     ]
    }
   ],
   "source": [
    "#30 movies with null runtime values\n",
    "#replace with median runtime\n",
    "runtime_df = master_df\n",
    "runtime_df['Runtime_Minutes'].fillna(runtime_df['Runtime_Minutes'].median(), inplace=True)\n",
    "runtime_df.info()\n"
   ]
  },
  {
   "cell_type": "markdown",
   "metadata": {},
   "source": [
    "**Check Distribution**"
   ]
  },
  {
   "cell_type": "code",
   "execution_count": 3,
   "metadata": {},
   "outputs": [
    {
     "data": {
      "text/plain": [
       "(50, 200)"
      ]
     },
     "execution_count": 3,
     "metadata": {},
     "output_type": "execute_result"
    },
    {
     "data": {
      "image/png": "[encoded data removed]",
      "text/plain": [
       "<Figure size 432x288 with 1 Axes>"
      ]
     },
     "metadata": {
      "needs_background": "light"
     },
     "output_type": "display_data"
    }
   ],
   "source": [
    "#Distribution of Runtime - Skewed right a bit\n",
    "runtime_df['Runtime_Minutes'].plot.hist(bins=40)\n",
    "plt.xlim(50, 200)"
   ]
  },
  {
   "cell_type": "markdown",
   "metadata": {},
   "source": [
    "**Create Categorical Var Based on Runtime Bins**"
   ]
  },
  {
   "cell_type": "code",
   "execution_count": 4,
   "metadata": {},
   "outputs": [
    {
     "data": {
      "text/html": [
       "<div>\n",
       "<style scoped>\n",
       "    .dataframe tbody tr th:only-of-type {\n",
       "        vertical-align: middle;\n",
       "    }\n",
       "\n",
       "    .dataframe tbody tr th {\n",
       "        vertical-align: top;\n",
       "    }\n",
       "\n",
       "    .dataframe thead th {\n",
       "        text-align: right;\n",
       "    }\n",
       "</style>\n",
       "<table border=\"1\" class=\"dataframe\">\n",
       "  <thead>\n",
       "    <tr style=\"text-align: right;\">\n",
       "      <th></th>\n",
       "      <th>Runtime_Minutes</th>\n",
       "    </tr>\n",
       "  </thead>\n",
       "  <tbody>\n",
       "    <tr>\n",
       "      <th>count</th>\n",
       "      <td>3188.000000</td>\n",
       "    </tr>\n",
       "    <tr>\n",
       "      <th>mean</th>\n",
       "      <td>106.287641</td>\n",
       "    </tr>\n",
       "    <tr>\n",
       "      <th>std</th>\n",
       "      <td>20.006696</td>\n",
       "    </tr>\n",
       "    <tr>\n",
       "      <th>min</th>\n",
       "      <td>60.000000</td>\n",
       "    </tr>\n",
       "    <tr>\n",
       "      <th>25%</th>\n",
       "      <td>92.000000</td>\n",
       "    </tr>\n",
       "    <tr>\n",
       "      <th>50%</th>\n",
       "      <td>102.500000</td>\n",
       "    </tr>\n",
       "    <tr>\n",
       "      <th>75%</th>\n",
       "      <td>117.000000</td>\n",
       "    </tr>\n",
       "    <tr>\n",
       "      <th>max</th>\n",
       "      <td>310.000000</td>\n",
       "    </tr>\n",
       "  </tbody>\n",
       "</table>\n",
       "</div>"
      ],
      "text/plain": [
       "       Runtime_Minutes\n",
       "count      3188.000000\n",
       "mean        106.287641\n",
       "std          20.006696\n",
       "min          60.000000\n",
       "25%          92.000000\n",
       "50%         102.500000\n",
       "75%         117.000000\n",
       "max         310.000000"
      ]
     },
     "execution_count": 4,
     "metadata": {},
     "output_type": "execute_result"
    }
   ],
   "source": [
    "#Half of movies are between 1:32 and 1:57 in length\n",
    "runtime_df[['Runtime_Minutes']].describe()"
   ]
  },
  {
   "cell_type": "code",
   "execution_count": null,
   "metadata": {},
   "outputs": [],
   "source": []
  },
  {
   "cell_type": "markdown",
   "metadata": {},
   "source": [
    "**Bins with Equal Number of Occurrences**"
   ]
  },
  {
   "cell_type": "code",
   "execution_count": 5,
   "metadata": {},
   "outputs": [
    {
     "data": {
      "text/plain": [
       "(102.5, 111.0]    561\n",
       "(59.999, 89.0]    560\n",
       "(89.0, 95.0]      535\n",
       "(95.0, 102.5]     514\n",
       "(111.0, 125.0]    510\n",
       "(125.0, 310.0]    508\n",
       "Name: Runtime_Bins, dtype: int64"
      ]
     },
     "execution_count": 5,
     "metadata": {},
     "output_type": "execute_result"
    }
   ],
   "source": [
    "runtime_df['Runtime_Bins'] = pd.qcut(runtime_df['Runtime_Minutes'], q = 6)\n",
    "runtime_df['Runtime_Bins'].value_counts()"
   ]
  },
  {
   "cell_type": "code",
   "execution_count": 6,
   "metadata": {},
   "outputs": [
    {
     "data": {
      "text/plain": [
       "Medium-Long    561\n",
       "Very Short     560\n",
       "Short          535\n",
       "Medium         514\n",
       "Long           510\n",
       "Very Long      508\n",
       "Name: Runtime_Bins, dtype: int64"
      ]
     },
     "execution_count": 6,
     "metadata": {},
     "output_type": "execute_result"
    }
   ],
   "source": [
    "bin_names = ['Very Short', 'Short', 'Medium', 'Medium-Long', 'Long', 'Very Long']\n",
    "runtime_df['Runtime_Bins'] = pd.qcut(runtime_df['Runtime_Minutes'], q = 6, labels = bin_names)\n",
    "runtime_df['Runtime_Bins'].value_counts()"
   ]
  },
  {
   "cell_type": "code",
   "execution_count": 7,
   "metadata": {},
   "outputs": [
    {
     "data": {
      "text/html": [
       "<div>\n",
       "<style scoped>\n",
       "    .dataframe tbody tr th:only-of-type {\n",
       "        vertical-align: middle;\n",
       "    }\n",
       "\n",
       "    .dataframe tbody tr th {\n",
       "        vertical-align: top;\n",
       "    }\n",
       "\n",
       "    .dataframe thead th {\n",
       "        text-align: right;\n",
       "    }\n",
       "</style>\n",
       "<table border=\"1\" class=\"dataframe\">\n",
       "  <thead>\n",
       "    <tr style=\"text-align: right;\">\n",
       "      <th></th>\n",
       "      <th>Lifetime_Gross</th>\n",
       "    </tr>\n",
       "    <tr>\n",
       "      <th>Runtime_Bins</th>\n",
       "      <th></th>\n",
       "    </tr>\n",
       "  </thead>\n",
       "  <tbody>\n",
       "    <tr>\n",
       "      <th>Very Short</th>\n",
       "      <td>66423.0</td>\n",
       "    </tr>\n",
       "    <tr>\n",
       "      <th>Short</th>\n",
       "      <td>129124.0</td>\n",
       "    </tr>\n",
       "    <tr>\n",
       "      <th>Medium</th>\n",
       "      <td>965542.0</td>\n",
       "    </tr>\n",
       "    <tr>\n",
       "      <th>Medium-Long</th>\n",
       "      <td>2146999.0</td>\n",
       "    </tr>\n",
       "    <tr>\n",
       "      <th>Long</th>\n",
       "      <td>8379841.5</td>\n",
       "    </tr>\n",
       "    <tr>\n",
       "      <th>Very Long</th>\n",
       "      <td>2184309.5</td>\n",
       "    </tr>\n",
       "  </tbody>\n",
       "</table>\n",
       "</div>"
      ],
      "text/plain": [
       "              Lifetime_Gross\n",
       "Runtime_Bins                \n",
       "Very Short           66423.0\n",
       "Short               129124.0\n",
       "Medium              965542.0\n",
       "Medium-Long        2146999.0\n",
       "Long               8379841.5\n",
       "Very Long          2184309.5"
      ]
     },
     "execution_count": 7,
     "metadata": {},
     "output_type": "execute_result"
    }
   ],
   "source": [
    "equal_bins = runtime_df.groupby('Runtime_Bins').median()\n",
    "equal_bins = equal_bins[['Lifetime_Gross']]\n",
    "equal_bins"
   ]
  },
  {
   "cell_type": "code",
   "execution_count": 8,
   "metadata": {},
   "outputs": [
    {
     "data": {
      "image/png": "[encoded data removed]",
      "text/plain": [
       "<Figure size 720x504 with 1 Axes>"
      ]
     },
     "metadata": {},
     "output_type": "display_data"
    }
   ],
   "source": [
    "#Set style, font size, figure size\n",
    "sns.set_style('whitegrid')\n",
    "sns.set_context(\"paper\", font_scale=2) \n",
    "fig, ax = plt.subplots(figsize=(10, 7))\n",
    "\n",
    "#Format y axis for millions of dollars\n",
    "ax.yaxis.set_major_formatter(ticker.FuncFormatter(lambda x, pos: '$' + '{:,.0f}'.format(x/1000000) + 'M'))\n",
    "\n",
    "\n",
    "\n",
    "#Create graph and format labels\n",
    "g = sns.barplot(x= equal_bins.index, y=equal_bins['Lifetime_Gross'], data = equal_bins, color='steelblue').set(xlabel = 'Movie Length', ylabel = 'Gross Revenue', title = 'Median Gross Revenue by Movie Length')"
   ]
  },
  {
   "cell_type": "markdown",
   "metadata": {},
   "source": [
    "**Scatter Plot - Runtime vs Revenue**"
   ]
  },
  {
   "cell_type": "code",
   "execution_count": 22,
   "metadata": {},
   "outputs": [
    {
     "data": {
      "image/png": "[encoded data removed]",
      "text/plain": [
       "<Figure size 720x504 with 1 Axes>"
      ]
     },
     "metadata": {},
     "output_type": "display_data"
    }
   ],
   "source": [
    "#Set style, font size, figure size\n",
    "sns.set_style('whitegrid')\n",
    "sns.set_context(\"paper\", font_scale=2) \n",
    "fig, ax = plt.subplots(figsize=(10, 7))\n",
    "\n",
    "# Set the limits of x and y for axes\n",
    "ax.set_xlim(60, 200)\n",
    "\n",
    "#Format y axis for millions of dollars\n",
    "ax.yaxis.set_major_formatter(ticker.FuncFormatter(lambda x, pos: '$' + '{:,.0f}'.format(x/1000000) + 'M'))\n",
    "\n",
    "\n",
    "\n",
    "#Create graph and format labels\n",
    "g = sns.scatterplot(x= runtime_df['Runtime_Minutes'], y=runtime_df['Lifetime_Gross'], data = equal_bins, color='steelblue').set(xlabel = 'Movie Length', ylabel = 'Gross Revenue', title = 'Gross Revenue by Movie Length')"
   ]
  },
  {
   "cell_type": "code",
   "execution_count": 9,
   "metadata": {},
   "outputs": [
    {
     "data": {
      "text/html": [
       "<div>\n",
       "<style scoped>\n",
       "    .dataframe tbody tr th:only-of-type {\n",
       "        vertical-align: middle;\n",
       "    }\n",
       "\n",
       "    .dataframe tbody tr th {\n",
       "        vertical-align: top;\n",
       "    }\n",
       "\n",
       "    .dataframe thead th {\n",
       "        text-align: right;\n",
       "    }\n",
       "</style>\n",
       "<table border=\"1\" class=\"dataframe\">\n",
       "  <thead>\n",
       "    <tr style=\"text-align: right;\">\n",
       "      <th></th>\n",
       "      <th>Title_ID</th>\n",
       "      <th>Title</th>\n",
       "      <th>Year</th>\n",
       "      <th>Runtime_Minutes</th>\n",
       "      <th>Genres</th>\n",
       "      <th>Lifetime_Gross</th>\n",
       "      <th>Runtime_Bins</th>\n",
       "    </tr>\n",
       "  </thead>\n",
       "  <tbody>\n",
       "    <tr>\n",
       "      <th>0</th>\n",
       "      <td>tt0369610</td>\n",
       "      <td>Jurassic World</td>\n",
       "      <td>2015</td>\n",
       "      <td>124.0</td>\n",
       "      <td>Action,Adventure,Sci-Fi</td>\n",
       "      <td>652270625.0</td>\n",
       "      <td>Long</td>\n",
       "    </tr>\n",
       "    <tr>\n",
       "      <th>1</th>\n",
       "      <td>tt0401729</td>\n",
       "      <td>John Carter</td>\n",
       "      <td>2012</td>\n",
       "      <td>132.0</td>\n",
       "      <td>Action,Adventure,Sci-Fi</td>\n",
       "      <td>73078100.0</td>\n",
       "      <td>Very Long</td>\n",
       "    </tr>\n",
       "    <tr>\n",
       "      <th>2</th>\n",
       "      <td>tt1179034</td>\n",
       "      <td>From Paris with Love</td>\n",
       "      <td>2010</td>\n",
       "      <td>92.0</td>\n",
       "      <td>Action,Crime,Thriller</td>\n",
       "      <td>24077427.0</td>\n",
       "      <td>Short</td>\n",
       "    </tr>\n",
       "    <tr>\n",
       "      <th>3</th>\n",
       "      <td>tt1194173</td>\n",
       "      <td>The Bourne Legacy</td>\n",
       "      <td>2012</td>\n",
       "      <td>135.0</td>\n",
       "      <td>Action,Adventure,Thriller</td>\n",
       "      <td>113203870.0</td>\n",
       "      <td>Very Long</td>\n",
       "    </tr>\n",
       "    <tr>\n",
       "      <th>4</th>\n",
       "      <td>tt1219289</td>\n",
       "      <td>Limitless</td>\n",
       "      <td>2011</td>\n",
       "      <td>105.0</td>\n",
       "      <td>Mystery,Sci-Fi,Thriller</td>\n",
       "      <td>79249455.0</td>\n",
       "      <td>Medium-Long</td>\n",
       "    </tr>\n",
       "    <tr>\n",
       "      <th>...</th>\n",
       "      <td>...</td>\n",
       "      <td>...</td>\n",
       "      <td>...</td>\n",
       "      <td>...</td>\n",
       "      <td>...</td>\n",
       "      <td>...</td>\n",
       "      <td>...</td>\n",
       "    </tr>\n",
       "    <tr>\n",
       "      <th>3183</th>\n",
       "      <td>tt7027278</td>\n",
       "      <td>Kedarnath</td>\n",
       "      <td>2018</td>\n",
       "      <td>116.0</td>\n",
       "      <td>Drama,Romance</td>\n",
       "      <td>901131.0</td>\n",
       "      <td>Long</td>\n",
       "    </tr>\n",
       "    <tr>\n",
       "      <th>3184</th>\n",
       "      <td>tt7089878</td>\n",
       "      <td>Rizu to aoi tori</td>\n",
       "      <td>2018</td>\n",
       "      <td>90.0</td>\n",
       "      <td>Animation,Drama,Fantasy</td>\n",
       "      <td>63204.0</td>\n",
       "      <td>Short</td>\n",
       "    </tr>\n",
       "    <tr>\n",
       "      <th>3185</th>\n",
       "      <td>tt7208564</td>\n",
       "      <td>Blood Fest</td>\n",
       "      <td>2018</td>\n",
       "      <td>92.0</td>\n",
       "      <td>Comedy,Horror</td>\n",
       "      <td>82774.0</td>\n",
       "      <td>Short</td>\n",
       "    </tr>\n",
       "    <tr>\n",
       "      <th>3186</th>\n",
       "      <td>tt7342204</td>\n",
       "      <td>Ai kaen seupikeu</td>\n",
       "      <td>2017</td>\n",
       "      <td>119.0</td>\n",
       "      <td>Comedy,Drama</td>\n",
       "      <td>63239.0</td>\n",
       "      <td>Long</td>\n",
       "    </tr>\n",
       "    <tr>\n",
       "      <th>3187</th>\n",
       "      <td>tt9358044</td>\n",
       "      <td>Hail Satan?</td>\n",
       "      <td>2019</td>\n",
       "      <td>95.0</td>\n",
       "      <td>Documentary</td>\n",
       "      <td>424284.0</td>\n",
       "      <td>Short</td>\n",
       "    </tr>\n",
       "  </tbody>\n",
       "</table>\n",
       "<p>3188 rows × 7 columns</p>\n",
       "</div>"
      ],
      "text/plain": [
       "       Title_ID                 Title  Year  Runtime_Minutes  \\\n",
       "0     tt0369610        Jurassic World  2015            124.0   \n",
       "1     tt0401729           John Carter  2012            132.0   \n",
       "2     tt1179034  From Paris with Love  2010             92.0   \n",
       "3     tt1194173     The Bourne Legacy  2012            135.0   \n",
       "4     tt1219289             Limitless  2011            105.0   \n",
       "...         ...                   ...   ...              ...   \n",
       "3183  tt7027278             Kedarnath  2018            116.0   \n",
       "3184  tt7089878      Rizu to aoi tori  2018             90.0   \n",
       "3185  tt7208564            Blood Fest  2018             92.0   \n",
       "3186  tt7342204      Ai kaen seupikeu  2017            119.0   \n",
       "3187  tt9358044           Hail Satan?  2019             95.0   \n",
       "\n",
       "                         Genres  Lifetime_Gross Runtime_Bins  \n",
       "0       Action,Adventure,Sci-Fi     652270625.0         Long  \n",
       "1       Action,Adventure,Sci-Fi      73078100.0    Very Long  \n",
       "2         Action,Crime,Thriller      24077427.0        Short  \n",
       "3     Action,Adventure,Thriller     113203870.0    Very Long  \n",
       "4       Mystery,Sci-Fi,Thriller      79249455.0  Medium-Long  \n",
       "...                         ...             ...          ...  \n",
       "3183              Drama,Romance        901131.0         Long  \n",
       "3184    Animation,Drama,Fantasy         63204.0        Short  \n",
       "3185              Comedy,Horror         82774.0        Short  \n",
       "3186               Comedy,Drama         63239.0         Long  \n",
       "3187                Documentary        424284.0        Short  \n",
       "\n",
       "[3188 rows x 7 columns]"
      ]
     },
     "execution_count": 9,
     "metadata": {},
     "output_type": "execute_result"
    }
   ],
   "source": [
    "runtime_df"
   ]
  },
  {
   "cell_type": "code",
   "execution_count": null,
   "metadata": {},
   "outputs": [],
   "source": []
  },
  {
   "cell_type": "code",
   "execution_count": null,
   "metadata": {},
   "outputs": [],
   "source": []
  },
  {
   "cell_type": "code",
   "execution_count": null,
   "metadata": {},
   "outputs": [],
   "source": []
  },
  {
   "cell_type": "code",
   "execution_count": null,
   "metadata": {},
   "outputs": [],
   "source": []
  },
  {
   "cell_type": "code",
   "execution_count": null,
   "metadata": {},
   "outputs": [],
   "source": []
  }
 ],
 "metadata": {
  "kernelspec": {
   "display_name": "Python [conda env:learn-env] *",
   "language": "python",
   "name": "conda-env-learn-env-py"
  },
  "language_info": {
   "codemirror_mode": {
    "name": "ipython",
    "version": 3
   },
   "file_extension": ".py",
   "mimetype": "text/x-python",
   "name": "python",
   "nbconvert_exporter": "python",
   "pygments_lexer": "ipython3",
   "version": "3.6.9"
  }
 },
 "nbformat": 4,
 "nbformat_minor": 2
}
