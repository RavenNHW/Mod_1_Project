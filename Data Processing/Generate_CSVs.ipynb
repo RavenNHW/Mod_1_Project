{
 "cells": [
  {
   "cell_type": "markdown",
   "metadata": {},
   "source": [
    "## Purpose"
   ]
  },
  {
   "cell_type": "markdown",
   "metadata": {},
   "source": [
    "This file is used to convert raw data into the master dataset we use for analysis.  The steps taken are as follows:"
   ]
  },
  {
   "cell_type": "markdown",
   "metadata": {},
   "source": [
    "### Steps:"
   ]
  },
  {
   "cell_type": "markdown",
   "metadata": {},
   "source": [
    "1. Import Revenue Data - BoxOfficeMojo\n",
    "2. Import Title Data - IMDB\n",
    "3. Import Alternate Titles - IMDB\n",
    "4. Merge Title Data & Alternate Titles - This allows for accurate merging with revenue data.\n",
    "5. Merge title and revenue data together to create master data set.\n",
    "6. Save master data set as a '.csv' file.\n",
    "7. Combine master data with IMDB principal data to create the people_master table.\n",
    "8. Save the people_master table as a '.csv' file.\n",
    "\n",
    "All further analysis is based on the '.csv' files created in this notebook."
   ]
  },
  {
   "cell_type": "markdown",
   "metadata": {},
   "source": [
    "**1. Import Revenue Data - BoxOfficeMojo**"
   ]
  },
  {
   "cell_type": "code",
   "execution_count": null,
   "metadata": {},
   "outputs": [],
   "source": [
    "import pandas as pd\n",
    "import numpy as np\n",
    "import matplotlib.pyplot as plt\n",
    "%matplotlib inline"
   ]
  },
  {
   "cell_type": "code",
   "execution_count": null,
   "metadata": {},
   "outputs": [],
   "source": [
    "#Import from data source\n",
    "budget_df = pd.read_csv('data/hollywood_domestic_boxoffice.csv', header=0)\n",
    "\n",
    "#Update column names to match.  Drop unneeded columns\n",
    "budget_df.rename(columns = {\"title\": \"primary_title\"}, inplace = True)\n",
    "budget_df.drop(columns = [\"rank\", \"studio\"], inplace = True)\n",
    "\n",
    "# #Add in year of release for accuracy when joining tables.\n",
    "budget_df['title_year'] = budget_df['primary_title'] + ' - ' + budget_df['year'].astype(str)"
   ]
  },
  {
   "cell_type": "markdown",
   "metadata": {},
   "source": [
    "**2. Import Title Data - IMDB**"
   ]
  },
  {
   "cell_type": "code",
   "execution_count": null,
   "metadata": {},
   "outputs": [],
   "source": [
    "##need: Primary Title, Genres\n",
    "##match on: title_year\n",
    "\n",
    "imdb_titles_df = pd.read_csv('data/imdb.title.basics.csv.gz')"
   ]
  },
  {
   "cell_type": "code",
   "execution_count": null,
   "metadata": {},
   "outputs": [],
   "source": [
    "#Some null values in runtime, genre\n",
    "imdb_titles_df.info()"
   ]
  },
  {
   "cell_type": "markdown",
   "metadata": {},
   "source": [
    "**3. Import Alternate Titles - IMDB**"
   ]
  },
  {
   "cell_type": "code",
   "execution_count": null,
   "metadata": {},
   "outputs": [],
   "source": [
    "#Get title akas and merge with imdb titles\n",
    "imdb_akas_df = pd.read_csv('data/imdb.title.akas.csv.gz')\n",
    "imdb_akas_df.head()"
   ]
  },
  {
   "cell_type": "code",
   "execution_count": null,
   "metadata": {},
   "outputs": [],
   "source": [
    "#Drop columns.  We only need id and title\n",
    "imdb_akas_df = imdb_akas_df[['title_id', 'title']]"
   ]
  },
  {
   "cell_type": "code",
   "execution_count": null,
   "metadata": {},
   "outputs": [],
   "source": [
    "#No null values\n",
    "imdb_akas_df.info()"
   ]
  },
  {
   "cell_type": "markdown",
   "metadata": {},
   "source": [
    "**4. Merge Title Data with Alternate Titles**"
   ]
  },
  {
   "cell_type": "code",
   "execution_count": null,
   "metadata": {},
   "outputs": [],
   "source": [
    "#Rename column to match\n",
    "imdb_akas_df.rename(columns = {\"title_id\": \"tconst\", \"title\": \"alternate_title\"}, inplace = True)"
   ]
  },
  {
   "cell_type": "code",
   "execution_count": null,
   "metadata": {},
   "outputs": [],
   "source": [
    "#Merge title data with alternate titles\n",
    "titles_with_akas = imdb_akas_df.merge(imdb_titles_df, how='left', on='tconst')"
   ]
  },
  {
   "cell_type": "code",
   "execution_count": null,
   "metadata": {},
   "outputs": [],
   "source": [
    "#Drop any duplicate rows\n",
    "titles_with_akas[titles_with_akas.duplicated()]\n",
    "titles_with_akas = titles_with_akas.drop_duplicates()"
   ]
  },
  {
   "cell_type": "code",
   "execution_count": null,
   "metadata": {},
   "outputs": [],
   "source": [
    "#Convert year to string in order to create title_year column\n",
    "titles_with_akas['start_year'] = titles_with_akas['start_year'].astype(str)\n",
    "#Combine year and title.  This column allows for more accurate merging.  Eliminates errors with remakes.\n",
    "titles_with_akas['aka_title_year'] = titles_with_akas['alternate_title'] + ' - ' + titles_with_akas['start_year']"
   ]
  },
  {
   "cell_type": "markdown",
   "metadata": {},
   "source": [
    "**5. Merge title and revenue data together to create master data set.**"
   ]
  },
  {
   "cell_type": "code",
   "execution_count": null,
   "metadata": {},
   "outputs": [],
   "source": [
    "#Merge with revenue data.\n",
    "titles_and_rev = titles_with_akas.merge(budget_df, how='left', left_on='aka_title_year', right_on='title_year')"
   ]
  },
  {
   "cell_type": "code",
   "execution_count": null,
   "metadata": {},
   "outputs": [],
   "source": [
    "#No duplicates\n",
    "titles_and_rev[titles_and_rev.duplicated()]"
   ]
  },
  {
   "cell_type": "code",
   "execution_count": null,
   "metadata": {},
   "outputs": [],
   "source": [
    "#Remove NaN values\n",
    "no_nas = titles_and_rev.dropna(subset=['lifetime_gross'])"
   ]
  },
  {
   "cell_type": "markdown",
   "metadata": {},
   "source": [
    "Deal with Errors - Movies Where Alternate Titles == Separate Films"
   ]
  },
  {
   "cell_type": "code",
   "execution_count": null,
   "metadata": {},
   "outputs": [],
   "source": [
    "#Duplicated title ids (tconst)\n",
    "no_nas.loc[(no_nas.duplicated(subset='tconst') == True)]"
   ]
  },
  {
   "cell_type": "code",
   "execution_count": null,
   "metadata": {},
   "outputs": [],
   "source": [
    "#Locate and remove 5 rows with incorrect data\n",
    "no_nas = no_nas.reset_index()\n",
    "no_nas = no_nas.drop([616,616])\n",
    "no_nas = no_nas.drop([635,635])\n",
    "no_nas = no_nas.drop([2055,2055])\n",
    "no_nas = no_nas.drop([2752,2752])\n",
    "no_nas = no_nas.drop([3057,3057])\n",
    "\n",
    "#Check that duplicate IDs have been removed\n",
    "no_nas.loc[(no_nas.duplicated(subset='tconst') == True)]"
   ]
  },
  {
   "cell_type": "code",
   "execution_count": null,
   "metadata": {},
   "outputs": [],
   "source": [
    "#Create Master Table\n",
    "master_table = no_nas.drop(columns=['index', 'alternate_title', 'primary_title_y', 'primary_title_x', 'aka_title_year', 'year', 'title_year'])"
   ]
  },
  {
   "cell_type": "code",
   "execution_count": null,
   "metadata": {},
   "outputs": [],
   "source": [
    "#Clean & Rename Columns\n",
    "def clean(col_name):\n",
    "    cleaned = col_name.title()\n",
    "    return cleaned\n",
    "master_table.columns = master_table.columns.map(clean)\n",
    "master_table = master_table.rename(columns={'Tconst':'Title_ID', 'Original_Title':'Title', 'Start_Year':'Year'})"
   ]
  },
  {
   "cell_type": "code",
   "execution_count": null,
   "metadata": {},
   "outputs": [],
   "source": [
    "#Movies under 60 minutes are not feature-length.  Remove them from the data.\n",
    "to_drop = master_df.loc[(master_df['Runtime_Minutes'] < 60)]\n",
    "master_df = master_df.drop(to_drop.index, axis = 0)"
   ]
  },
  {
   "cell_type": "code",
   "execution_count": null,
   "metadata": {},
   "outputs": [],
   "source": [
    "#Check that data is ready to export\n",
    "master_table.info()"
   ]
  },
  {
   "cell_type": "markdown",
   "metadata": {},
   "source": [
    "**6. Save master data set as a '.csv' file.**"
   ]
  },
  {
   "cell_type": "code",
   "execution_count": null,
   "metadata": {},
   "outputs": [],
   "source": [
    "master_table.to_csv(path_or_buf=\"data/Master_Table.csv\")"
   ]
  },
  {
   "cell_type": "markdown",
   "metadata": {},
   "source": [
    "**7. Combine master data with IMDB principal data to create the people_master table.**"
   ]
  },
  {
   "cell_type": "code",
   "execution_count": null,
   "metadata": {},
   "outputs": [],
   "source": [
    "#Read in master table\n",
    "master_df = master_table"
   ]
  },
  {
   "cell_type": "code",
   "execution_count": null,
   "metadata": {},
   "outputs": [],
   "source": [
    "#Pull in Principal data sets\n",
    "principals = pd.read_csv('data/imdb.title.principals.csv.gz')\n",
    "names = pd.read_csv('data/imdb.name.basics.csv.gz')\n",
    "names_only = names[['nconst', 'primary_name']]\n",
    "\n",
    "#Merge to get full names in principal data\n",
    "principals_names = principals.merge(names_only, on='nconst', how='left')\n",
    "principals_names.drop(columns = [\"ordering\", \"job\", \"characters\"], inplace = True)\n",
    "\n",
    "#Clean Column Names\n",
    "principals_names.rename(columns={'tconst':'Title_ID', 'nconst':'Name_ID', 'category':'Role', 'primary_name':'Name'}, inplace = True)"
   ]
  },
  {
   "cell_type": "code",
   "execution_count": null,
   "metadata": {},
   "outputs": [],
   "source": [
    "#Merge Principals with master table based on movie ID\n",
    "people_master = master_df.merge(principals_names, how='left', on='Title_ID')\n",
    "people_master = people_master.dropna(subset=['Name'])"
   ]
  },
  {
   "cell_type": "markdown",
   "metadata": {},
   "source": [
    "**8. Save the people_master table as a '.csv' file.**"
   ]
  },
  {
   "cell_type": "code",
   "execution_count": null,
   "metadata": {},
   "outputs": [],
   "source": [
    "people_master.to_csv(path_or_buf='data/People_Master.csv')"
   ]
  }
 ],
 "metadata": {
  "kernelspec": {
   "display_name": "Python [conda env:learn-env] *",
   "language": "python",
   "name": "conda-env-learn-env-py"
  },
  "language_info": {
   "codemirror_mode": {
    "name": "ipython",
    "version": 3
   },
   "file_extension": ".py",
   "mimetype": "text/x-python",
   "name": "python",
   "nbconvert_exporter": "python",
   "pygments_lexer": "ipython3",
   "version": "3.6.9"
  }
 },
 "nbformat": 4,
 "nbformat_minor": 4
}
